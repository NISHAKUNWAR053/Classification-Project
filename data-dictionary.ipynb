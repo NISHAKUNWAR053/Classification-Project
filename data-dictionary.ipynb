{
 "cells": [
  {
   "cell_type": "markdown",
   "id": "5f498250-2e55-4307-9d69-a07da50ad274",
   "metadata": {},
   "source": [
    "|S.NO             | Variable Name| Meaning |\n",
    "| :---------------- | :------ | :---- |\n",
    "| 1   |  CustomerID  | The unique ID of each customer|\n",
    "| 2   |   Gender   | The gender of a person|\n",
    "| 3   |  SeniorCitizen   | Whether a customer can be classified as a senior citizen.|\n",
    "| 4   | Partner   | If a customer is married/ in a live-in relationship.|\n",
    "| 5   | Dependents | If a customer has dependents (children/ retired parents)|\n",
    "| 6   | \tTenure| The time for which a customer has been using the service.\n",
    "| 7 | PhoneService  | Whether a customer has a landline phone service along with the internet service.|\n",
    "| 8|\tMultipleLines|\tWhether a customer has multiple lines of internet connectivity.|\n",
    "| 9 | InternetService |\tThe type of internet services chosen by the customer|\n",
    "| 10| OnlineSecurity |\tSpecifies if a customer has online security.|\n",
    "| 11 | OnlineBackup |\tSpecifies if a customer has online backup.|\n",
    "| 12| DeviceProtection |\tSpecifies if a customer has opted for device protection.|\n",
    "| 13 | TechSupport |\tWhether a customer has opted for tech support of not.|\n",
    "| 14 |\tStreamingTV\t| Whether a customer has an option of TV streaming.|\n",
    "|15\t|StreamingMovies |\tWhether a customer has an option of Movie streaming.|\n",
    "|16|\tContract | \tThe type of contract a customer has chosen.|\n",
    "|17\t|PaperlessBilling  |\tWhether a customer has opted for paperless billing.|\n",
    "|18|\tPaymentMethod |Specifies the method by which bills are paid.|\n",
    "|19|\tMonthlyCharges |\tSpecifies the money paid by a customer each month.|\n",
    "|20\t|TotalCharges |\tThe total money paid by the customer to the company.|\n",
    "|21\t|Churn  |\tThis is the target variable which specifies if a customer has churned or not.|\n",
    "\n",
    "\n",
    "\n",
    "\n"
   ]
  },
  {
   "cell_type": "code",
   "execution_count": null,
   "id": "195a710f-2d73-419c-8bff-2859d06ef04b",
   "metadata": {},
   "outputs": [],
   "source": []
  }
 ],
 "metadata": {
  "kernelspec": {
   "display_name": "Python 3 (ipykernel)",
   "language": "python",
   "name": "python3"
  },
  "language_info": {
   "codemirror_mode": {
    "name": "ipython",
    "version": 3
   },
   "file_extension": ".py",
   "mimetype": "text/x-python",
   "name": "python",
   "nbconvert_exporter": "python",
   "pygments_lexer": "ipython3",
   "version": "3.10.12"
  }
 },
 "nbformat": 4,
 "nbformat_minor": 5
}
