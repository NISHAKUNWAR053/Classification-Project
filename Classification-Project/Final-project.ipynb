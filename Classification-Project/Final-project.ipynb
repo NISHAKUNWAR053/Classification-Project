{
 "cells": [
  {
   "cell_type": "markdown",
   "id": "cf9d2f91-7a80-40b1-aa6c-c28f7ca4d2fe",
   "metadata": {},
   "source": [
    "In todays highly complicated market retailing the customer is more important than ever in this presentation we will discuss strategies they can use to reduce the customer chart \n"
   ]
  },
  {
   "cell_type": "markdown",
   "id": "8c33ef26-2678-4d0c-ad40-5dbfdb0be32b",
   "metadata": {},
   "source": [
    "# Telco churn classification final project"
   ]
  },
  {
   "cell_type": "markdown",
   "id": "16933fb7-cb98-4c4f-a88a-fa15ff67b1c5",
   "metadata": {},
   "source": [
    "Project Overview and Summary"
   ]
  },
  {
   "cell_type": "markdown",
   "id": "0dba3794-eba4-43c9-ac56-15f5e21428ac",
   "metadata": {},
   "source": []
  },
  {
   "cell_type": "markdown",
   "id": "608bb3e3-4468-4813-9491-c660be3d7495",
   "metadata": {},
   "source": [
    "# Project Description\n",
    "\n",
    "This project seeks to understand why TELCO customers leave and find ways to keep them loyal by uncovering key reasons for churn\n",
    "\n",
    "# Project Goals\n",
    "\n",
    "The main aims of this project were to:\n",
    "\n",
    "- Find important reasons for customer churn\n",
    "- Create a reliable model to predict it.\n",
    "- Share the results with TELCO's  decision-makers.\n",
    "\n",
    "\n",
    "# Summary Report\n",
    "\n",
    "After thorough study, we picked four features that stood out visually and were important according to the chi-square tests. The Logistic Regression model was the top choice for predicting customer churn. It consistently predicted with almost 80% accuracy in all stages—train, validate, and test—outperforming the basleline accuracy of 74%.\n",
    "\n",
    "The insights from this study will help TELCO understand why customers leave, so they can make plans to prevent it and improve customer loyalty.\n",
    "\n",
    "# Initial Questions\n",
    "The project aimed to find answers to these initial questions:\n",
    "\n",
    "1. Does Contract type affects customer churn significantly?\n",
    "2. Device protection relates to customer churn significantly?\n",
    "3. Does Streaming TV affects customer churn significantly?\n",
    "4. Does Having tech support has a significant impact on customer churn?\n"
   ]
  },
  {
   "cell_type": "code",
   "execution_count": 3,
   "id": "4aa7b55d-bdfb-45b4-9d9e-8f117c3992dc",
   "metadata": {},
   "outputs": [],
   "source": [
    "# import python libraries\n",
    "import pandas as pd\n",
    "import numpy as np\n",
    "from scipy.stats import chi2_contingency\n",
    "import scipy.stats as stats\n",
    "import matplotlib.pyplot as plt\n",
    "import seaborn as sns"
   ]
  },
  {
   "cell_type": "code",
   "execution_count": 4,
   "id": "2fbc3ad1-d32f-41c9-83a4-415616a44b4b",
   "metadata": {},
   "outputs": [],
   "source": [
    "# import wrangle functions\n",
    "from env import get_connection\n",
    "import acquire\n",
    "import prepare"
   ]
  },
  {
   "cell_type": "code",
   "execution_count": 5,
   "id": "2492fa19-302e-4c09-9154-71e580b12a66",
   "metadata": {},
   "outputs": [],
   "source": [
    "# import Machine Learning for classification\n",
    "from sklearn.model_selection import train_test_split\n",
    "from sklearn.tree import DecisionTreeClassifier, plot_tree, export_text\n",
    "from sklearn.ensemble import RandomForestClassifier\n",
    "from sklearn.linear_model import LogisticRegression\n",
    "from sklearn.neighbors import KNeighborsClassifier\n",
    "from sklearn.linear_model import LogisticRegression\n",
    "from sklearn.neighbors import KNeighborsClassifier\n",
    "from sklearn.metrics import classification_report, confusion_matrix, accuracy_score\n",
    "from sklearn.metrics import ConfusionMatrixDisplay\n"
   ]
  },
  {
   "cell_type": "markdown",
   "id": "6d129cc6-4366-4af2-bb29-15fef4830ef9",
   "metadata": {},
   "source": [
    "# DATA ACQUISITION"
   ]
  },
  {
   "cell_type": "code",
   "execution_count": 6,
   "id": "f217db30-5e88-4776-bc1d-07e61d38e44b",
   "metadata": {},
   "outputs": [],
   "source": [
    "# DEFINED an acquire function by creating SQL query and joining tables\n",
    "telco_df = acquire.get_telco_data('telco_churn')"
   ]
  },
  {
   "cell_type": "code",
   "execution_count": 12,
   "id": "291f9545-e926-4ade-b736-5a19ef11f0ce",
   "metadata": {},
   "outputs": [],
   "source": [
    "# DEFINED Data_acuire function that displays methods to view the acquired data e.g., shape, describe, info\n",
    "#data_acquire = acquire.telco_data_acquire(telco_df)"
   ]
  },
  {
   "cell_type": "code",
   "execution_count": 13,
   "id": "3f62d710-a4f8-433b-ae60-7956c0ee95f8",
   "metadata": {},
   "outputs": [],
   "source": [
    "columns_to_drop = ['phone_service.1', 'multiple_lines.1', 'online_security.1', 'online_backup.1', 'device_protection.1', 'tech_support.1', 'streaming_tv.1', 'streaming_movies.1', 'total_charges.1', 'paperless_billing.1']\n",
    "telco_df = telco_df.drop(columns=columns_to_drop)\n"
   ]
  },
  {
   "cell_type": "code",
   "execution_count": 2,
   "id": "51341c6a-40d3-47e1-930b-c009e4b7572a",
   "metadata": {},
   "outputs": [],
   "source": [
    "#initial exploration of acquired data\n",
    "#data_acquire = acquire.telco_data_acquire(telco_df)"
   ]
  },
  {
   "cell_type": "markdown",
   "id": "aedc1504-5aa5-42af-a88a-0ec508370974",
   "metadata": {},
   "source": [
    "# DATA PREPARATION"
   ]
  },
  {
   "cell_type": "code",
   "execution_count": 15,
   "id": "18186c7a-fb66-4220-a3ca-c0f89f672b6d",
   "metadata": {},
   "outputs": [
    {
     "data": {
      "text/html": [
       "<div>\n",
       "<style scoped>\n",
       "    .dataframe tbody tr th:only-of-type {\n",
       "        vertical-align: middle;\n",
       "    }\n",
       "\n",
       "    .dataframe tbody tr th {\n",
       "        vertical-align: top;\n",
       "    }\n",
       "\n",
       "    .dataframe thead th {\n",
       "        text-align: right;\n",
       "    }\n",
       "</style>\n",
       "<table border=\"1\" class=\"dataframe\">\n",
       "  <thead>\n",
       "    <tr style=\"text-align: right;\">\n",
       "      <th></th>\n",
       "      <th>customer_id</th>\n",
       "      <th>senior_citizen</th>\n",
       "      <th>tenure</th>\n",
       "      <th>monthly_charges</th>\n",
       "      <th>total_charges</th>\n",
       "      <th>contract_type</th>\n",
       "      <th>phone_service.1</th>\n",
       "      <th>multiple_lines.1</th>\n",
       "      <th>internet_service_type_id.1</th>\n",
       "      <th>online_security.1</th>\n",
       "      <th>...</th>\n",
       "      <th>streaming_tv_No internet service</th>\n",
       "      <th>streaming_tv_Yes</th>\n",
       "      <th>streaming_movies_No internet service</th>\n",
       "      <th>streaming_movies_Yes</th>\n",
       "      <th>paperless_billing_Yes</th>\n",
       "      <th>churn_Yes</th>\n",
       "      <th>internet_service_type_Fiber optic</th>\n",
       "      <th>gender_Male</th>\n",
       "      <th>contract_type</th>\n",
       "      <th>contract_type_Yes</th>\n",
       "    </tr>\n",
       "  </thead>\n",
       "  <tbody>\n",
       "    <tr>\n",
       "      <th>0</th>\n",
       "      <td>0002-ORFBO</td>\n",
       "      <td>0</td>\n",
       "      <td>9</td>\n",
       "      <td>65.60</td>\n",
       "      <td>593.30</td>\n",
       "      <td>One year</td>\n",
       "      <td>Yes</td>\n",
       "      <td>No</td>\n",
       "      <td>1</td>\n",
       "      <td>No</td>\n",
       "      <td>...</td>\n",
       "      <td>0</td>\n",
       "      <td>1</td>\n",
       "      <td>0</td>\n",
       "      <td>0</td>\n",
       "      <td>1</td>\n",
       "      <td>0</td>\n",
       "      <td>0</td>\n",
       "      <td>0</td>\n",
       "      <td>One year</td>\n",
       "      <td>1</td>\n",
       "    </tr>\n",
       "    <tr>\n",
       "      <th>1</th>\n",
       "      <td>0003-MKNFE</td>\n",
       "      <td>0</td>\n",
       "      <td>9</td>\n",
       "      <td>59.90</td>\n",
       "      <td>542.40</td>\n",
       "      <td>Month-to-month</td>\n",
       "      <td>Yes</td>\n",
       "      <td>Yes</td>\n",
       "      <td>1</td>\n",
       "      <td>No</td>\n",
       "      <td>...</td>\n",
       "      <td>0</td>\n",
       "      <td>0</td>\n",
       "      <td>0</td>\n",
       "      <td>1</td>\n",
       "      <td>0</td>\n",
       "      <td>0</td>\n",
       "      <td>0</td>\n",
       "      <td>1</td>\n",
       "      <td>Month-to-month</td>\n",
       "      <td>0</td>\n",
       "    </tr>\n",
       "    <tr>\n",
       "      <th>2</th>\n",
       "      <td>0004-TLHLJ</td>\n",
       "      <td>0</td>\n",
       "      <td>4</td>\n",
       "      <td>73.90</td>\n",
       "      <td>280.85</td>\n",
       "      <td>Month-to-month</td>\n",
       "      <td>Yes</td>\n",
       "      <td>No</td>\n",
       "      <td>2</td>\n",
       "      <td>No</td>\n",
       "      <td>...</td>\n",
       "      <td>0</td>\n",
       "      <td>0</td>\n",
       "      <td>0</td>\n",
       "      <td>0</td>\n",
       "      <td>1</td>\n",
       "      <td>1</td>\n",
       "      <td>1</td>\n",
       "      <td>1</td>\n",
       "      <td>Month-to-month</td>\n",
       "      <td>0</td>\n",
       "    </tr>\n",
       "    <tr>\n",
       "      <th>3</th>\n",
       "      <td>0011-IGKFF</td>\n",
       "      <td>1</td>\n",
       "      <td>13</td>\n",
       "      <td>98.00</td>\n",
       "      <td>1237.85</td>\n",
       "      <td>Month-to-month</td>\n",
       "      <td>Yes</td>\n",
       "      <td>No</td>\n",
       "      <td>2</td>\n",
       "      <td>No</td>\n",
       "      <td>...</td>\n",
       "      <td>0</td>\n",
       "      <td>1</td>\n",
       "      <td>0</td>\n",
       "      <td>1</td>\n",
       "      <td>1</td>\n",
       "      <td>1</td>\n",
       "      <td>1</td>\n",
       "      <td>1</td>\n",
       "      <td>Month-to-month</td>\n",
       "      <td>0</td>\n",
       "    </tr>\n",
       "    <tr>\n",
       "      <th>4</th>\n",
       "      <td>0013-EXCHZ</td>\n",
       "      <td>1</td>\n",
       "      <td>3</td>\n",
       "      <td>83.90</td>\n",
       "      <td>267.40</td>\n",
       "      <td>Month-to-month</td>\n",
       "      <td>Yes</td>\n",
       "      <td>No</td>\n",
       "      <td>2</td>\n",
       "      <td>No</td>\n",
       "      <td>...</td>\n",
       "      <td>0</td>\n",
       "      <td>1</td>\n",
       "      <td>0</td>\n",
       "      <td>0</td>\n",
       "      <td>1</td>\n",
       "      <td>1</td>\n",
       "      <td>1</td>\n",
       "      <td>0</td>\n",
       "      <td>Month-to-month</td>\n",
       "      <td>0</td>\n",
       "    </tr>\n",
       "    <tr>\n",
       "      <th>...</th>\n",
       "      <td>...</td>\n",
       "      <td>...</td>\n",
       "      <td>...</td>\n",
       "      <td>...</td>\n",
       "      <td>...</td>\n",
       "      <td>...</td>\n",
       "      <td>...</td>\n",
       "      <td>...</td>\n",
       "      <td>...</td>\n",
       "      <td>...</td>\n",
       "      <td>...</td>\n",
       "      <td>...</td>\n",
       "      <td>...</td>\n",
       "      <td>...</td>\n",
       "      <td>...</td>\n",
       "      <td>...</td>\n",
       "      <td>...</td>\n",
       "      <td>...</td>\n",
       "      <td>...</td>\n",
       "      <td>...</td>\n",
       "      <td>...</td>\n",
       "    </tr>\n",
       "    <tr>\n",
       "      <th>7038</th>\n",
       "      <td>9282-IZGQK</td>\n",
       "      <td>0</td>\n",
       "      <td>1</td>\n",
       "      <td>85.00</td>\n",
       "      <td>85.00</td>\n",
       "      <td>Month-to-month</td>\n",
       "      <td>Yes</td>\n",
       "      <td>Yes</td>\n",
       "      <td>2</td>\n",
       "      <td>No</td>\n",
       "      <td>...</td>\n",
       "      <td>0</td>\n",
       "      <td>0</td>\n",
       "      <td>0</td>\n",
       "      <td>1</td>\n",
       "      <td>1</td>\n",
       "      <td>1</td>\n",
       "      <td>1</td>\n",
       "      <td>0</td>\n",
       "      <td>Month-to-month</td>\n",
       "      <td>0</td>\n",
       "    </tr>\n",
       "    <tr>\n",
       "      <th>7039</th>\n",
       "      <td>9462-MJUAW</td>\n",
       "      <td>0</td>\n",
       "      <td>4</td>\n",
       "      <td>50.40</td>\n",
       "      <td>206.60</td>\n",
       "      <td>Month-to-month</td>\n",
       "      <td>Yes</td>\n",
       "      <td>Yes</td>\n",
       "      <td>1</td>\n",
       "      <td>No</td>\n",
       "      <td>...</td>\n",
       "      <td>0</td>\n",
       "      <td>0</td>\n",
       "      <td>0</td>\n",
       "      <td>0</td>\n",
       "      <td>0</td>\n",
       "      <td>1</td>\n",
       "      <td>0</td>\n",
       "      <td>1</td>\n",
       "      <td>Month-to-month</td>\n",
       "      <td>0</td>\n",
       "    </tr>\n",
       "    <tr>\n",
       "      <th>7040</th>\n",
       "      <td>9705-ZJBCG</td>\n",
       "      <td>0</td>\n",
       "      <td>13</td>\n",
       "      <td>54.15</td>\n",
       "      <td>701.05</td>\n",
       "      <td>One year</td>\n",
       "      <td>Yes</td>\n",
       "      <td>No</td>\n",
       "      <td>1</td>\n",
       "      <td>Yes</td>\n",
       "      <td>...</td>\n",
       "      <td>0</td>\n",
       "      <td>0</td>\n",
       "      <td>0</td>\n",
       "      <td>0</td>\n",
       "      <td>0</td>\n",
       "      <td>0</td>\n",
       "      <td>0</td>\n",
       "      <td>0</td>\n",
       "      <td>One year</td>\n",
       "      <td>1</td>\n",
       "    </tr>\n",
       "    <tr>\n",
       "      <th>7041</th>\n",
       "      <td>9777-IQHWP</td>\n",
       "      <td>0</td>\n",
       "      <td>64</td>\n",
       "      <td>93.40</td>\n",
       "      <td>5822.30</td>\n",
       "      <td>Two year</td>\n",
       "      <td>Yes</td>\n",
       "      <td>Yes</td>\n",
       "      <td>2</td>\n",
       "      <td>Yes</td>\n",
       "      <td>...</td>\n",
       "      <td>0</td>\n",
       "      <td>0</td>\n",
       "      <td>0</td>\n",
       "      <td>1</td>\n",
       "      <td>0</td>\n",
       "      <td>0</td>\n",
       "      <td>1</td>\n",
       "      <td>1</td>\n",
       "      <td>Two year</td>\n",
       "      <td>1</td>\n",
       "    </tr>\n",
       "    <tr>\n",
       "      <th>7042</th>\n",
       "      <td>9809-IMGCQ</td>\n",
       "      <td>1</td>\n",
       "      <td>22</td>\n",
       "      <td>96.70</td>\n",
       "      <td>2082.95</td>\n",
       "      <td>Month-to-month</td>\n",
       "      <td>Yes</td>\n",
       "      <td>Yes</td>\n",
       "      <td>2</td>\n",
       "      <td>No</td>\n",
       "      <td>...</td>\n",
       "      <td>0</td>\n",
       "      <td>1</td>\n",
       "      <td>0</td>\n",
       "      <td>1</td>\n",
       "      <td>1</td>\n",
       "      <td>1</td>\n",
       "      <td>1</td>\n",
       "      <td>1</td>\n",
       "      <td>Month-to-month</td>\n",
       "      <td>0</td>\n",
       "    </tr>\n",
       "  </tbody>\n",
       "</table>\n",
       "<p>7043 rows × 44 columns</p>\n",
       "</div>"
      ],
      "text/plain": [
       "     customer_id  senior_citizen  tenure  monthly_charges  total_charges  \\\n",
       "0     0002-ORFBO               0       9            65.60         593.30   \n",
       "1     0003-MKNFE               0       9            59.90         542.40   \n",
       "2     0004-TLHLJ               0       4            73.90         280.85   \n",
       "3     0011-IGKFF               1      13            98.00        1237.85   \n",
       "4     0013-EXCHZ               1       3            83.90         267.40   \n",
       "...          ...             ...     ...              ...            ...   \n",
       "7038  9282-IZGQK               0       1            85.00          85.00   \n",
       "7039  9462-MJUAW               0       4            50.40         206.60   \n",
       "7040  9705-ZJBCG               0      13            54.15         701.05   \n",
       "7041  9777-IQHWP               0      64            93.40        5822.30   \n",
       "7042  9809-IMGCQ               1      22            96.70        2082.95   \n",
       "\n",
       "       contract_type phone_service.1 multiple_lines.1  \\\n",
       "0           One year             Yes               No   \n",
       "1     Month-to-month             Yes              Yes   \n",
       "2     Month-to-month             Yes               No   \n",
       "3     Month-to-month             Yes               No   \n",
       "4     Month-to-month             Yes               No   \n",
       "...              ...             ...              ...   \n",
       "7038  Month-to-month             Yes              Yes   \n",
       "7039  Month-to-month             Yes              Yes   \n",
       "7040        One year             Yes               No   \n",
       "7041        Two year             Yes              Yes   \n",
       "7042  Month-to-month             Yes              Yes   \n",
       "\n",
       "      internet_service_type_id.1 online_security.1  ...  \\\n",
       "0                              1                No  ...   \n",
       "1                              1                No  ...   \n",
       "2                              2                No  ...   \n",
       "3                              2                No  ...   \n",
       "4                              2                No  ...   \n",
       "...                          ...               ...  ...   \n",
       "7038                           2                No  ...   \n",
       "7039                           1                No  ...   \n",
       "7040                           1               Yes  ...   \n",
       "7041                           2               Yes  ...   \n",
       "7042                           2                No  ...   \n",
       "\n",
       "     streaming_tv_No internet service streaming_tv_Yes  \\\n",
       "0                                   0                1   \n",
       "1                                   0                0   \n",
       "2                                   0                0   \n",
       "3                                   0                1   \n",
       "4                                   0                1   \n",
       "...                               ...              ...   \n",
       "7038                                0                0   \n",
       "7039                                0                0   \n",
       "7040                                0                0   \n",
       "7041                                0                0   \n",
       "7042                                0                1   \n",
       "\n",
       "     streaming_movies_No internet service streaming_movies_Yes  \\\n",
       "0                                       0                    0   \n",
       "1                                       0                    1   \n",
       "2                                       0                    0   \n",
       "3                                       0                    1   \n",
       "4                                       0                    0   \n",
       "...                                   ...                  ...   \n",
       "7038                                    0                    1   \n",
       "7039                                    0                    0   \n",
       "7040                                    0                    0   \n",
       "7041                                    0                    1   \n",
       "7042                                    0                    1   \n",
       "\n",
       "     paperless_billing_Yes  churn_Yes  internet_service_type_Fiber optic  \\\n",
       "0                        1          0                                  0   \n",
       "1                        0          0                                  0   \n",
       "2                        1          1                                  1   \n",
       "3                        1          1                                  1   \n",
       "4                        1          1                                  1   \n",
       "...                    ...        ...                                ...   \n",
       "7038                     1          1                                  1   \n",
       "7039                     0          1                                  0   \n",
       "7040                     0          0                                  0   \n",
       "7041                     0          0                                  1   \n",
       "7042                     1          1                                  1   \n",
       "\n",
       "     gender_Male   contract_type contract_type_Yes  \n",
       "0              0        One year                 1  \n",
       "1              1  Month-to-month                 0  \n",
       "2              1  Month-to-month                 0  \n",
       "3              1  Month-to-month                 0  \n",
       "4              0  Month-to-month                 0  \n",
       "...          ...             ...               ...  \n",
       "7038           0  Month-to-month                 0  \n",
       "7039           1  Month-to-month                 0  \n",
       "7040           0        One year                 1  \n",
       "7041           1        Two year                 1  \n",
       "7042           1  Month-to-month                 0  \n",
       "\n",
       "[7043 rows x 44 columns]"
      ]
     },
     "execution_count": 15,
     "metadata": {},
     "output_type": "execute_result"
    }
   ],
   "source": [
    "# DEFINED a preparation function that Dropped columns 'internet_service_type_id','contract_type_id','payment_type_id', 'Unnamed: 0' and created and created dummy columns\n",
    "prepare_telco=prepare.prep_telco(telco_df)\n",
    "prepare_telco"
   ]
  },
  {
   "cell_type": "code",
   "execution_count": 17,
   "id": "c55b02ea-f0f5-410c-b929-201ec87c69b9",
   "metadata": {},
   "outputs": [
    {
     "name": "stdout",
     "output_type": "stream",
     "text": [
      "train data shape: (4225, 44)\n",
      "validate data shape: (1409, 44)\n",
      "test data shape: (1409, 44)\n"
     ]
    }
   ],
   "source": [
    "# DEFINED a split data function to divide the original data into 3 datasets to train, validate and test\n",
    "telco_train,telco_validate,telco_test=prepare.split_telco(prepare_telco)\n",
    "print(f'train data shape: {telco_train.shape}')\n",
    "print(f'validate data shape: {telco_validate.shape}')\n",
    "print(f'test data shape: {telco_test.shape}')"
   ]
  },
  {
   "cell_type": "markdown",
   "id": "cd348998-2d09-4926-a093-453726c4260a",
   "metadata": {},
   "source": [
    "# DATA EXPLORATORY & ANALYSIS\n",
    "# Exploring through Visualizations"
   ]
  },
  {
   "cell_type": "code",
   "execution_count": 20,
   "id": "e8727f63-2961-4a4d-8617-28e8b6881148",
   "metadata": {},
   "outputs": [
    {
     "name": "stdout",
     "output_type": "stream",
     "text": [
      "Columns with non-numeric values: ['customer_id', 'contract_type', 'phone_service.1', 'multiple_lines.1', 'online_security.1', 'online_backup.1', 'device_protection.1', 'tech_support.1', 'streaming_tv.1', 'streaming_movies.1', 'total_charges.1', 'paperless_billing.1', 'signup_date', 'contract_type']\n"
     ]
    }
   ],
   "source": [
    "non_numeric_columns = []\n",
    "\n",
    "for column in telco_train.columns:\n",
    "    if not pd.api.types.is_numeric_dtype(telco_train[column]):\n",
    "        non_numeric_columns.append(column)\n",
    "\n",
    "print(\"Columns with non-numeric values:\", non_numeric_columns)"
   ]
  },
  {
   "cell_type": "code",
   "execution_count": 21,
   "id": "4d7ba455-d916-4753-8ac7-efeb2ac46b15",
   "metadata": {},
   "outputs": [],
   "source": [
    "non_numeric_columns = ['customer_id', 'contract_type', 'phone_service.1', 'multiple_lines.1', 'online_security.1', 'online_backup.1', 'device_protection.1', 'tech_support.1', 'streaming_tv.1', 'streaming_movies.1', 'total_charges.1', 'paperless_billing.1', 'signup_date', 'contract_type']\n",
    "numeric_columns = telco_train.columns.difference(non_numeric_columns)\n",
    "numeric_df = telco_train[numeric_columns]\n"
   ]
  },
  {
   "cell_type": "markdown",
   "id": "efd77d80-d3ef-43ab-937c-cc859d0e746c",
   "metadata": {},
   "source": [
    "The provided code is about exploring and visualizing the correlation among numeric features in your dataset, specifically with respect to the \"churn\" target variable."
   ]
  },
  {
   "cell_type": "code",
   "execution_count": 1,
   "id": "f4cbd104-a36d-49f7-a812-f309e951c7ca",
   "metadata": {},
   "outputs": [],
   "source": [
    "# correlation data\n",
    "#telco_correlation = numeric_df.corr()\n",
    "#Explore correlation data by churn\n",
    "#telco_correlation_churn = telco_correlation['churn_Yes'].sort_values(ascending=False)\n",
    "#telco_correlation_churn\n",
    "#sns.clustermap(numeric_df.corr(), cmap = 'Blues', center = 0, annot = False)\n",
    "#plt.show()\n",
    "# cluster map becasue This grouping helps reveal clusters of variables that exhibit similar patterns of correlation\n",
    "# a cluster map makes it easier to spot patterns. Strong positive or negative correlations between variables."
   ]
  },
  {
   "cell_type": "code",
   "execution_count": 29,
   "id": "d19f2164-b615-47f2-9442-0d4b3c90202a",
   "metadata": {},
   "outputs": [],
   "source": [
    "# CONTRACT TYPE HISTOGRAM ( USING COUNTPLOT)"
   ]
  },
  {
   "cell_type": "markdown",
   "id": "bcd29b81-1099-4d6b-be9e-66bce05f06c5",
   "metadata": {},
   "source": [
    "# 1. Does Contract type affects customer churn significantly?\n"
   ]
  },
  {
   "cell_type": "code",
   "execution_count": 26,
   "id": "da42d931-8954-4864-a9fa-c6b0a141c9ea",
   "metadata": {},
   "outputs": [
    {
     "data": {
      "image/png": "[encoded data removed]",
      "text/plain": [
       "<Figure size 640x480 with 1 Axes>"
      ]
     },
     "metadata": {},
     "output_type": "display_data"
    }
   ],
   "source": [
    "new_labels = {'not churn': 'Not Churned', 'churned': 'Churned'}\n",
    "x = ['Month to Month', 'Over 1 year']\n",
    "\n",
    "# Visualizing the streaming TV vs churn\n",
    "ct = sns.countplot(data=telco_train, x='contract_type_Yes', hue='churn_Yes', palette='Blues')\n",
    "\n",
    "# Access the legend object\n",
    "legend = ct.legend()\n",
    "\n",
    "# Modify the legend labels\n",
    "legend.get_texts()[0].set_text(new_labels['not churn'])\n",
    "legend.get_texts()[1].set_text(new_labels['churned'])\n",
    "\n",
    "# Relabel the x-axis ticks\n",
    "plt.xticks(range(len(x)), x)\n",
    "\n",
    "ct.set_xlabel('Customer Contract Type')\n",
    "ct.set_ylabel('Customer Count')\n",
    "plt.title('Contract Type vs Churn')\n",
    "\n",
    "plt.xticks(range(len(x)), x)\n",
    "\n",
    "# Add count numbers on bars\n",
    "for p in ct.patches:\n",
    "    width = p.get_width()\n",
    "    height = p.get_height()\n",
    "    x, y = p.get_xy()    \n",
    "    offset = width * 0.02  # Adjust the offset percentage as needed\n",
    "    ct.annotate(format(height, '.0f'), (x + width / 2., y + height), ha='center', va='center', xytext=(0, 5), textcoords='offset points')\n",
    "\n",
    "plt.show()\n",
    "# visualzieand analyze the relationship between customer contract type and customer churn"
   ]
  },
  {
   "cell_type": "code",
   "execution_count": 27,
   "id": "875b7a1d-c5ef-44b0-9019-119dae39c742",
   "metadata": {},
   "outputs": [
    {
     "data": {
      "text/plain": [
       "churn_Yes\n",
       "0    3130\n",
       "1    1095\n",
       "Name: count, dtype: int64"
      ]
     },
     "execution_count": 27,
     "metadata": {},
     "output_type": "execute_result"
    }
   ],
   "source": [
    "telco_train.churn_Yes.value_counts()"
   ]
  },
  {
   "cell_type": "code",
   "execution_count": 28,
   "id": "9a30ad94-47b3-4678-bb59-16155207545a",
   "metadata": {},
   "outputs": [
    {
     "data": {
      "text/plain": [
       "contract_type_Yes\n",
       "0    2321\n",
       "1    1904\n",
       "Name: count, dtype: int64"
      ]
     },
     "execution_count": 28,
     "metadata": {},
     "output_type": "execute_result"
    }
   ],
   "source": [
    "#'0' relabled to Month-to-Month (MTM) and '1' relabeld to Over 1 Year \n",
    "telco_train.contract_type_Yes.value_counts()\n"
   ]
  },
  {
   "cell_type": "markdown",
   "id": "58cee49d-f7ee-434a-bb75-635a9f84d002",
   "metadata": {},
   "source": [
    "Contract Type Visual Findings\n",
    "\n",
    "The visual data shows that customers that the contract type has a significant impacy on the rate of churn. The longer the contract the less customers churn."
   ]
  },
  {
   "cell_type": "code",
   "execution_count": 30,
   "id": "89e47ade-cbf3-4a57-99ef-ff658b1f59b1",
   "metadata": {},
   "outputs": [],
   "source": [
    "# DEVICE PROTECTION HISTOGRAM (USING COUNTPLOT)"
   ]
  },
  {
   "cell_type": "markdown",
   "id": "fc055b1b-150f-4ed4-8586-d600c96aa158",
   "metadata": {},
   "source": [
    "# 2. Device protection relates to customer churn significantly?\n",
    "\n"
   ]
  },
  {
   "cell_type": "code",
   "execution_count": 31,
   "id": "f5453398-4bc2-4e47-9cf4-84b2dbd56bd4",
   "metadata": {},
   "outputs": [
    {
     "data": {
      "image/png": "[encoded data removed]",
      "text/plain": [
       "<Figure size 640x480 with 1 Axes>"
      ]
     },
     "metadata": {},
     "output_type": "display_data"
    }
   ],
   "source": [
    "new_labels = {'not churn': 'Not Churned', 'churned': 'Churned'}\n",
    "x = ['Without Device Protection', 'With Device Protection']\n",
    "\n",
    "# Visualizing the streaming TV vs churn\n",
    "dp = sns.countplot(data=telco_train, x='device_protection_Yes', hue='churn_Yes', palette='Blues')\n",
    "\n",
    "# Access the legend object\n",
    "legend = dp.legend()\n",
    "\n",
    "# Modify the legend labels\n",
    "legend.get_texts()[0].set_text(new_labels['not churn'])\n",
    "legend.get_texts()[1].set_text(new_labels['churned'])\n",
    "\n",
    "plt.xticks(range(len(x)), x)\n",
    "\n",
    "dp.set_xlabel('TELCO Customers:')\n",
    "dp.set_ylabel('Customer Count')\n",
    "plt.title('Device Protection vs Churn')\n",
    "\n",
    "# Add count numbers on bars\n",
    "for p in dp.patches:\n",
    "    width = p.get_width()\n",
    "    height = p.get_height()\n",
    "    x, y = p.get_xy()    \n",
    "    offset = width * 0.02  # Adjust the offset percentage as needed\n",
    "    dp.annotate(format(height, '.0f'), (x + width / 2., y + height), ha='center', va='center', xytext=(0, 5), textcoords='offset points')\n",
    "\n",
    "plt.show()"
   ]
  },
  {
   "cell_type": "code",
   "execution_count": 32,
   "id": "8a7f0715-beb4-4bf0-908e-661fc0afa9de",
   "metadata": {},
   "outputs": [
    {
     "data": {
      "text/plain": [
       "device_protection_Yes\n",
       "0    2797\n",
       "1    1428\n",
       "Name: count, dtype: int64"
      ]
     },
     "execution_count": 32,
     "metadata": {},
     "output_type": "execute_result"
    }
   ],
   "source": [
    "#'0' relabled to Without Device Protection and with Device Protection \n",
    "telco_train.device_protection_Yes.value_counts()\n"
   ]
  },
  {
   "cell_type": "markdown",
   "id": "b6c1c359-0d9e-45f4-b3c0-09d4cf82fa80",
   "metadata": {},
   "source": [
    "Device Protection Visual Findings\n",
    "\n",
    "The visual data shows that customers with Device Protection churn less than those that do not have Device Protection.\n"
   ]
  },
  {
   "cell_type": "code",
   "execution_count": 33,
   "id": "65106eb6-8dd4-4a70-9411-baae1bdeb600",
   "metadata": {},
   "outputs": [],
   "source": [
    "# STREAMING TV HISTOGRAM (USING COUNTPLOT)"
   ]
  },
  {
   "cell_type": "markdown",
   "id": "8976f885-2368-414a-a9f1-17c8035cb3a2",
   "metadata": {},
   "source": [
    "# Does Streaming TV affects customer churn significantly?"
   ]
  },
  {
   "cell_type": "code",
   "execution_count": 34,
   "id": "c1edccc3-e942-434c-9871-31279bddbe2d",
   "metadata": {},
   "outputs": [
    {
     "data": {
      "image/png": "[encoded data removed]",
      "text/plain": [
       "<Figure size 640x480 with 1 Axes>"
      ]
     },
     "metadata": {},
     "output_type": "display_data"
    }
   ],
   "source": [
    "new_labels = {'not churn': 'Not Churned', 'churned': 'Churned'}\n",
    "x = ['without Streaming TV', 'with Streaming TV']\n",
    "\n",
    "# Visualizing the streaming TV vs churn\n",
    "st = sns.countplot(data=telco_train, x='streaming_tv_Yes', hue='churn_Yes', palette='Blues')\n",
    "\n",
    "# Access the legend object\n",
    "legend = st.legend()\n",
    "\n",
    "# Modify the legend labels\n",
    "legend.get_texts()[0].set_text(new_labels['not churn'])\n",
    "legend.get_texts()[1].set_text(new_labels['churned'])\n",
    "\n",
    "plt.xticks(range(len(x)), x)\n",
    "\n",
    "st.set_xlabel('TELCO Customers:')\n",
    "st.set_ylabel('Customer Count')\n",
    "plt.title('Streaming TV vs Churn')\n",
    "\n",
    "# Add count numbers on bars\n",
    "for p in st.patches:\n",
    "    width = p.get_width()\n",
    "    height = p.get_height()\n",
    "    x, y = p.get_xy()    \n",
    "    offset = width * 0.02  # Adjust the offset percentage as needed\n",
    "    st.annotate(format(height, '.0f'), (x + width / 2., y + height), ha='center', va='center', xytext=(0, 5), textcoords='offset points')\n",
    "\n",
    "plt.show()\n"
   ]
  },
  {
   "cell_type": "code",
   "execution_count": 35,
   "id": "61c41dd1-cd9b-47b0-8c9b-b7be38d6197f",
   "metadata": {},
   "outputs": [
    {
     "data": {
      "text/plain": [
       "streaming_tv_Yes\n",
       "0    2597\n",
       "1    1628\n",
       "Name: count, dtype: int64"
      ]
     },
     "execution_count": 35,
     "metadata": {},
     "output_type": "execute_result"
    }
   ],
   "source": [
    "#'0' relabled to Without Streaming TV and '1'with Streaming TV \n",
    "telco_train.streaming_tv_Yes.value_counts()"
   ]
  },
  {
   "cell_type": "markdown",
   "id": "b1534279-91fe-48d7-a159-4f409f43001f",
   "metadata": {},
   "source": [
    "Streaming TV Visual Findings\n",
    "\n",
    "\n",
    "The visual data shows that customers that Stream Tv churn slightly less than those that do not Stream TV."
   ]
  },
  {
   "cell_type": "code",
   "execution_count": 36,
   "id": "b394db06-6e27-4364-9747-af9208681db1",
   "metadata": {},
   "outputs": [],
   "source": [
    "# TECH SUPPORT HISTOGRAM (USING COUNTPLOT)"
   ]
  },
  {
   "cell_type": "code",
   "execution_count": 87,
   "id": "06b76f65-81a9-44f3-b550-617067a4055f",
   "metadata": {},
   "outputs": [],
   "source": [
    "# 4. Does Having tech support has a significant impact on customer churn?\n"
   ]
  },
  {
   "cell_type": "code",
   "execution_count": 37,
   "id": "a1cd0932-29ae-42d6-869e-e6787390ad0b",
   "metadata": {},
   "outputs": [
    {
     "data": {
      "image/png": "[encoded data removed]",
      "text/plain": [
       "<Figure size 640x480 with 1 Axes>"
      ]
     },
     "metadata": {},
     "output_type": "display_data"
    }
   ],
   "source": [
    "new_labels = {'not churn': 'Not Churned', 'churned': 'Churned'}\n",
    "x = {'with Tech Support', 'Without Tech Support'}\n",
    "ts = sns.countplot(data=telco_train, x='tech_support_Yes', hue='churn_Yes', palette='Blues')\n",
    "\n",
    "# Access the legend object\n",
    "legend = ts.legend()\n",
    "\n",
    "# Modify the legend labels\n",
    "legend.get_texts()[0].set_text(new_labels['not churn'])\n",
    "legend.get_texts()[1].set_text(new_labels['churned'])\n",
    "\n",
    "plt.xticks(range(len(x)), x)\n",
    "\n",
    "\n",
    "ts.set_xlabel('Tech Support')\n",
    "ts.set_ylabel('Customer Count')\n",
    "plt.title('Tech Support vs Churn')\n",
    "\n",
    "# Add count numbers on bars\n",
    "for p in ts.patches:\n",
    "    ts.annotate(format(p.get_height(), '.0f'), (p.get_x() + p.get_width() / 2., p.get_height()), ha = 'center', va = 'center', xytext = (0, 5), textcoords = 'offset points')\n",
    "\n",
    "plt.show()"
   ]
  },
  {
   "cell_type": "code",
   "execution_count": 38,
   "id": "1df6e7ea-be31-4403-948e-a7c73e51795e",
   "metadata": {},
   "outputs": [
    {
     "data": {
      "text/plain": [
       "tech_support_Yes\n",
       "0    2996\n",
       "1    1229\n",
       "Name: count, dtype: int64"
      ]
     },
     "execution_count": 38,
     "metadata": {},
     "output_type": "execute_result"
    }
   ],
   "source": [
    "#'0' relabled to Without Tech Support and '1'with Tech Support\n",
    "telco_train.tech_support_Yes.value_counts()"
   ]
  },
  {
   "cell_type": "markdown",
   "id": "648116b0-5589-4771-99b1-b97f8c9b0d0d",
   "metadata": {},
   "source": [
    "Tech Support Visual Findings\n",
    "\n",
    "The correlation data for tech_support_Yes vs churn: -0.161989 indicates a weak negative correlation between two variables.\n",
    "\n",
    "The visual data shows that customers with tech support churn significantly less than those that do not have Tech Support."
   ]
  },
  {
   "cell_type": "markdown",
   "id": "fcc64369-9736-4deb-bce4-e5b48030b44d",
   "metadata": {},
   "source": [
    "# Exploring through Visualizations Findings\n",
    "Upon analyzing the correlation data and conducting data visualizations, it was observed that certain features exhibited a weak negative correlation with churn. As a result, streaming TV and data protection were excluded from further examination. However, Contract type and Tech Support features displayed visual significance and demonstrated a more substantial relationship with customer churn. Therefore, these features were selected for chi-square statistical testing.\n",
    "\n",
    "chi-square test is used to assess the independence or association between two categorical variables. It is particularly useful when analyzing categorical data or count data.\n",
    "\n"
   ]
  },
  {
   "cell_type": "markdown",
   "id": "d2e73682-3afe-4578-b971-6bbef49f91e0",
   "metadata": {},
   "source": [
    "# 1. Statistical Testing - Contract Type\n",
    "\n",
    "Contract Type Hypothesis:\n",
    "\n",
    "• a = .05 \n",
    "\n",
    "• H0 = Contract type is independent of customer churn \n",
    "\n",
    "• Ha = Contract type is dependent to customer churn  \n",
    "\n",
    "Chi-square test using 2 discrete independent variables Contract Type vs Churn.\n"
   ]
  },
  {
   "cell_type": "code",
   "execution_count": 52,
   "id": "31e50661-33ce-466c-a67e-bd3576154a99",
   "metadata": {},
   "outputs": [
    {
     "data": {
      "text/html": [
       "<div>\n",
       "<style scoped>\n",
       "    .dataframe tbody tr th:only-of-type {\n",
       "        vertical-align: middle;\n",
       "    }\n",
       "\n",
       "    .dataframe tbody tr th {\n",
       "        vertical-align: top;\n",
       "    }\n",
       "\n",
       "    .dataframe thead th {\n",
       "        text-align: right;\n",
       "    }\n",
       "</style>\n",
       "<table border=\"1\" class=\"dataframe\">\n",
       "  <thead>\n",
       "    <tr style=\"text-align: right;\">\n",
       "      <th>churn_Yes</th>\n",
       "      <th>0</th>\n",
       "      <th>1</th>\n",
       "    </tr>\n",
       "    <tr>\n",
       "      <th>contract_type_Yes</th>\n",
       "      <th></th>\n",
       "      <th></th>\n",
       "    </tr>\n",
       "  </thead>\n",
       "  <tbody>\n",
       "    <tr>\n",
       "      <th>0</th>\n",
       "      <td>1344</td>\n",
       "      <td>977</td>\n",
       "    </tr>\n",
       "    <tr>\n",
       "      <th>1</th>\n",
       "      <td>1786</td>\n",
       "      <td>118</td>\n",
       "    </tr>\n",
       "  </tbody>\n",
       "</table>\n",
       "</div>"
      ],
      "text/plain": [
       "churn_Yes             0    1\n",
       "contract_type_Yes           \n",
       "0                  1344  977\n",
       "1                  1786  118"
      ]
     },
     "execution_count": 52,
     "metadata": {},
     "output_type": "execute_result"
    }
   ],
   "source": [
    "a = 0.05\n",
    "ct_observed = pd.crosstab(telco_train.contract_type_Yes, telco_train.churn_Yes)\n",
    "ct_observed\n",
    "\n"
   ]
  },
  {
   "cell_type": "code",
   "execution_count": 65,
   "id": "d569dc68-4c13-47e1-94b6-b1cafe5c1332",
   "metadata": {},
   "outputs": [
    {
     "name": "stdout",
     "output_type": "stream",
     "text": [
      "Chi-square statistic: 295.06792155327156\n",
      "p-value: 3.9114197569697555e-66\n",
      "Degrees of freedom: 1\n",
      "Expected frequencies: [[3559.67920731  744.32079269]\n",
      " [1782.32079269  372.67920731]]\n"
     ]
    },
    {
     "data": {
      "image/png": "[encoded data removed]",
      "text/plain": [
       "<Figure size 640x480 with 1 Axes>"
      ]
     },
     "metadata": {},
     "output_type": "display_data"
    }
   ],
   "source": [
    "# Perform chi-square test\n",
    "chi2, p, dof, expected = chi2_contingency(ct_observed1)\n",
    "\n",
    "# Print chi-square statistic, p-value, degrees of freedom, and expected frequencies\n",
    "print(\"Chi-square statistic:\", chi2)\n",
    "print(\"p-value:\", p)\n",
    "print(\"Degrees of freedom:\", dof)\n",
    "print(\"Expected frequencies:\", expected)\n",
    "\n",
    "# Plot the observed frequencies as a grouped bar plot\n",
    "labels = ['Contract Type 0', 'Contract Type 1']\n",
    "x = np.arange(dt_observed1.shape[0])\n",
    "width = 0.35\n",
    "\n",
    "fig, ax = plt.subplots()\n",
    "bars1 = ax.bar(x - width/2, dt_observed1[:, 0], width, label='Without Churn')\n",
    "bars2 = ax.bar(x + width/2, dt_observed1[:, 1], width, label='Churned')\n",
    "\n",
    "ax.set_ylabel('Frequency')\n",
    "ax.set_title('Observed Frequencies')\n",
    "ax.set_xticks(x)\n",
    "ax.set_xticklabels(labels)\n",
    "ax.legend()\n",
    "\n",
    "plt.show()"
   ]
  },
  {
   "cell_type": "code",
   "execution_count": 54,
   "id": "e68e06b4-c3d5-4850-aa10-da3650305fff",
   "metadata": {},
   "outputs": [
    {
     "name": "stdout",
     "output_type": "stream",
     "text": [
      "The p-value is less than the alpha: True\n",
      "Outcome: We reject the null\n"
     ]
    }
   ],
   "source": [
    "print(f'The p-value is less than the alpha: {p < a}')\n",
    "\n",
    "if p < a:\n",
    "    print('Outcome: We reject the null')\n",
    "else:\n",
    "    print(\"Outcome: We fail to reject the null\")\n",
    "    "
   ]
  },
  {
   "cell_type": "markdown",
   "id": "0c49a776-923f-4da0-a751-8f62ff250ae3",
   "metadata": {},
   "source": [
    "Contract Type Statistical Findings\n",
    "\n",
    "- Outcome: We rejected the Null Hypothesis, indicating that contract type is dependent on customer churn.\n"
   ]
  },
  {
   "cell_type": "markdown",
   "id": "96fbd3dc-ba65-400a-b568-995a13f9d535",
   "metadata": {},
   "source": [
    "# 2. Statistical Testing - Tech Support\n",
    "\n",
    "Tech Support Hypothesis:\n",
    "\n",
    "\n",
    "H0 = Tech support is independent of customer churn\n",
    "\n",
    "Ha = Tech support is dependent to customer churn\n",
    "\n",
    "Chi-square test using 2 discrete independent variables Tech Support vs Churn.\n"
   ]
  },
  {
   "cell_type": "code",
   "execution_count": 55,
   "id": "49c23f8c-6297-4e93-9c8e-7d558d7b1132",
   "metadata": {},
   "outputs": [
    {
     "data": {
      "text/html": [
       "<div>\n",
       "<style scoped>\n",
       "    .dataframe tbody tr th:only-of-type {\n",
       "        vertical-align: middle;\n",
       "    }\n",
       "\n",
       "    .dataframe tbody tr th {\n",
       "        vertical-align: top;\n",
       "    }\n",
       "\n",
       "    .dataframe thead th {\n",
       "        text-align: right;\n",
       "    }\n",
       "</style>\n",
       "<table border=\"1\" class=\"dataframe\">\n",
       "  <thead>\n",
       "    <tr style=\"text-align: right;\">\n",
       "      <th>churn_Yes</th>\n",
       "      <th>0</th>\n",
       "      <th>1</th>\n",
       "    </tr>\n",
       "    <tr>\n",
       "      <th>tech_support_Yes</th>\n",
       "      <th></th>\n",
       "      <th></th>\n",
       "    </tr>\n",
       "  </thead>\n",
       "  <tbody>\n",
       "    <tr>\n",
       "      <th>0</th>\n",
       "      <td>2078</td>\n",
       "      <td>918</td>\n",
       "    </tr>\n",
       "    <tr>\n",
       "      <th>1</th>\n",
       "      <td>1052</td>\n",
       "      <td>177</td>\n",
       "    </tr>\n",
       "  </tbody>\n",
       "</table>\n",
       "</div>"
      ],
      "text/plain": [
       "churn_Yes            0    1\n",
       "tech_support_Yes           \n",
       "0                 2078  918\n",
       "1                 1052  177"
      ]
     },
     "execution_count": 55,
     "metadata": {},
     "output_type": "execute_result"
    }
   ],
   "source": [
    "dt_observed = pd.crosstab(telco_train.tech_support_Yes, telco_train.churn_Yes)\n",
    "dt_observed"
   ]
  },
  {
   "cell_type": "code",
   "execution_count": 63,
   "id": "2a3e66c6-e8b3-41ef-92f4-678c8efbb52f",
   "metadata": {},
   "outputs": [
    {
     "name": "stdout",
     "output_type": "stream",
     "text": [
      "Chi-square statistic: 118.850516784955\n",
      "p-value: 1.1292691053793043e-27\n",
      "Degrees of freedom: 1\n",
      "Expected frequencies: [[2219.52189349  776.47810651]\n",
      " [ 910.47810651  318.52189349]]\n"
     ]
    },
    {
     "data": {
      "image/png": "[encoded data removed]",
      "text/plain": [
       "<Figure size 640x480 with 1 Axes>"
      ]
     },
     "metadata": {},
     "output_type": "display_data"
    }
   ],
   "source": [
    "\n",
    "# Perform chi-square test\n",
    "chi2, p, dof, expected = chi2_contingency(dt_observed1)\n",
    "\n",
    "# Example contingency table\n",
    "dt_observed1 = np.array([[2078, 918],\n",
    "                         [1052, 177]])\n",
    "\n",
    "#Print chi-square statistic, p-value, degrees of freedom, and expected frequencies\n",
    "print(\"Chi-square statistic:\", chi2)\n",
    "print(\"p-value:\", p)\n",
    "print(\"Degrees of freedom:\", dof)\n",
    "print(\"Expected frequencies:\", expected)\n",
    "\n",
    "# Plot the observed frequencies as a grouped bar plot\n",
    "labels = ['Contract Type 0', 'Contract Type 1']\n",
    "x = np.arange(dt_observed1.shape[0])\n",
    "width = 0.35\n",
    "\n",
    "fig, ax = plt.subplots()\n",
    "bars1 = ax.bar(x - width/2, dt_observed1[:, 0], width, label='Without Churn')\n",
    "bars2 = ax.bar(x + width/2, dt_observed1[:, 1], width, label='Churned')\n",
    "\n",
    "ax.set_ylabel('Frequency')\n",
    "ax.set_title('Observed Frequencies')\n",
    "ax.set_xticks(x)\n",
    "ax.set_xticklabels(labels)\n",
    "ax.legend()\n",
    "\n",
    "plt.show()\n",
    "#This grouped bar plot provides a visual comparison of the observed frequencies of different \n",
    "#categories for each contract type."
   ]
  },
  {
   "cell_type": "code",
   "execution_count": 64,
   "id": "a5300bef-f292-471d-8f13-1164dfa53172",
   "metadata": {},
   "outputs": [
    {
     "name": "stdout",
     "output_type": "stream",
     "text": [
      "The p-value is less than the alpha: True\n",
      "Outcome: We reject the null\n"
     ]
    }
   ],
   "source": [
    "print(f'The p-value is less than the alpha: {p < a}')\n",
    "\n",
    "if p < a:\n",
    "    print('Outcome: We reject the null')\n",
    "else:\n",
    "    print(\"Outcome: we fail to reject the null\")"
   ]
  },
  {
   "cell_type": "markdown",
   "id": "7cbe63b3-9596-44c5-98d9-70cfcc948821",
   "metadata": {},
   "source": [
    "Tech Support Statistical Findings\n",
    "\n",
    "Outcome: We reject the Null Hypothesis, indicating that tech support is dependent on customer churn.\n",
    "\n",
    "Nevertheless, the relationship between tech support and churn is weak, with a count of 118 out of 4225. It will be used in modeling to fulfill the rubric requirements.\n"
   ]
  },
  {
   "cell_type": "markdown",
   "id": "3ba11ad5-89e6-4eb2-8a84-9bcc05aedae1",
   "metadata": {},
   "source": [
    "# MODELING\n",
    "Selecting evaluation methods\n",
    "\n",
    "Using the Tech Support and Contract Type for modeling with an established baseline accuracy of 74%. I will use Decision Tree, Logistic Regression and Random Forest with a Random Seed = 42 to exceed baseline accuracy without overfitting.\n",
    "\n"
   ]
  },
  {
   "cell_type": "code",
   "execution_count": 66,
   "id": "b2c6faeb-bd36-46c4-9e9d-789c7374fe3a",
   "metadata": {},
   "outputs": [],
   "source": [
    "#Splitting the data in to X and Y to take out the data with curn and those without \n",
    "telco_X_train = telco_train.select_dtypes(exclude=['object']).drop(columns=['churn_Yes'])\n",
    "telco_y_train = telco_train.select_dtypes(exclude=['object']).churn_Yes\n",
    "\n",
    "telco_X_validate = telco_validate.select_dtypes(exclude=['object']).drop(columns=['churn_Yes'])\n",
    "telco_y_validate = telco_validate.select_dtypes(exclude=['object']).churn_Yes\n",
    "\n",
    "telco_X_test = telco_test.select_dtypes(exclude=['object']).drop(columns=['churn_Yes'])\n",
    "telco_y_test = telco_test.select_dtypes(exclude=['object']).churn_Yes"
   ]
  },
  {
   "cell_type": "markdown",
   "id": "564fb795-58f1-44a3-b5f7-13aecc5c0496",
   "metadata": {},
   "source": [
    "# Evaluate on Baseline"
   ]
  },
  {
   "cell_type": "code",
   "execution_count": 67,
   "id": "0d54aa8b-5183-4bfd-92ed-5db06242e134",
   "metadata": {},
   "outputs": [
    {
     "data": {
      "text/plain": [
       "churn_Yes\n",
       "0    3130\n",
       "1    1095\n",
       "Name: count, dtype: int64"
      ]
     },
     "execution_count": 67,
     "metadata": {},
     "output_type": "execute_result"
    }
   ],
   "source": [
    "#Exploring churn The majority churn_Yes. value counts were '0', and will be use to define baseline\n",
    "telco_train.churn_Yes.value_counts()"
   ]
  },
  {
   "cell_type": "code",
   "execution_count": 68,
   "id": "43fd6d1e-6359-49f8-ad39-520198f1ae2a",
   "metadata": {},
   "outputs": [
    {
     "name": "stdout",
     "output_type": "stream",
     "text": [
      "The baseline accuracy is: 74.08%\n"
     ]
    }
   ],
   "source": [
    "baseline =(telco_y_train==0).mean()\n",
    "print(f'The baseline accuracy is: {baseline:.2%}')"
   ]
  },
  {
   "cell_type": "markdown",
   "id": "6dd922eb-8e3a-4ad4-8e5a-7143c8394e66",
   "metadata": {},
   "source": [
    "# Evaluate on Train and Validate\n",
    "\n",
    "# DECISION TREE"
   ]
  },
  {
   "cell_type": "code",
   "execution_count": 70,
   "id": "f4dd7c71-061a-412f-b76f-a4d8c48cd2ab",
   "metadata": {},
   "outputs": [
    {
     "data": {
      "image/png": "[encoded data removed]",
      "text/plain": [
       "<Figure size 1300x700 with 1 Axes>"
      ]
     },
     "metadata": {},
     "output_type": "display_data"
    }
   ],
   "source": [
    "# Make, FIT, Use Decision Tree\n",
    "clf_telco_tree = DecisionTreeClassifier(max_depth=3, random_state=42)\n",
    "clf_telco_tree = clf_telco_tree.fit(telco_X_train, telco_y_train)\n",
    "\n",
    "# Convert the Index object to a list\n",
    "feature_names_list = telco_X_train.columns.tolist()\n",
    "\n",
    "plt.figure(figsize=(13, 7))\n",
    "plot_tree(clf_telco_tree, feature_names=feature_names_list, rounded=True)\n",
    "plt.show()"
   ]
  },
  {
   "cell_type": "code",
   "execution_count": 71,
   "id": "83e35634-e9dd-430c-bbe2-1ff67694eaad",
   "metadata": {},
   "outputs": [
    {
     "name": "stdout",
     "output_type": "stream",
     "text": [
      "decision tree training score: 79.91%\n",
      "decision tree validate score: 77.64%\n",
      "Both decision tree scores higher than baseline accuracy\n"
     ]
    }
   ],
   "source": [
    "print(f'decision tree training score: {clf_telco_tree.score(telco_X_train, telco_y_train):.2%}')\n",
    "print(f'decision tree validate score: {clf_telco_tree.score(telco_X_validate, telco_y_validate):.2%}')\n",
    "print('Both decision tree scores higher than baseline accuracy')"
   ]
  },
  {
   "cell_type": "markdown",
   "id": "e6eca73a-3bfa-494f-a042-50c6e41122af",
   "metadata": {},
   "source": [
    "# LOGISTIC REGRESSION"
   ]
  },
  {
   "cell_type": "code",
   "execution_count": 74,
   "id": "951a4287-7ed1-412b-8568-11764087d6da",
   "metadata": {},
   "outputs": [],
   "source": [
    "# Make, Fit, Use Logistic Regression\n",
    "logit = LogisticRegression(C=1, random_state=42, max_iter = 1000)\n",
    "logit.fit(telco_X_train, telco_y_train)\n",
    "y_prediction = logit.predict(telco_X_train)"
   ]
  },
  {
   "cell_type": "code",
   "execution_count": 75,
   "id": "c9d4560c-8a63-490b-9686-85c06ac868e8",
   "metadata": {},
   "outputs": [
    {
     "name": "stdout",
     "output_type": "stream",
     "text": [
      "logistic regression training score: 80.85%\n",
      "logistic regression validate score: 79.99%\n",
      "Both logistic regression scores are higher than baseline accuracy\n"
     ]
    }
   ],
   "source": [
    "print(f'logistic regression training score: {logit.score(telco_X_train, telco_y_train):.2%}')\n",
    "print(f'logistic regression validate score: {logit.score(telco_X_validate, telco_y_validate):.2%}')\n",
    "print('Both logistic regression scores are higher than baseline accuracy')"
   ]
  },
  {
   "cell_type": "markdown",
   "id": "c885b5c6-9a61-42b2-a718-e751e693dcee",
   "metadata": {},
   "source": [
    "# RANDOM FOREST"
   ]
  },
  {
   "cell_type": "code",
   "execution_count": 76,
   "id": "9c415ac4-94c7-43a0-9ef0-27102866d4fc",
   "metadata": {},
   "outputs": [
    {
     "data": {
      "text/html": [
       "<style>#sk-container-id-1 {color: black;}#sk-container-id-1 pre{padding: 0;}#sk-container-id-1 div.sk-toggleable {background-color: white;}#sk-container-id-1 label.sk-toggleable__label {cursor: pointer;display: block;width: 100%;margin-bottom: 0;padding: 0.3em;box-sizing: border-box;text-align: center;}#sk-container-id-1 label.sk-toggleable__label-arrow:before {content: \"▸\";float: left;margin-right: 0.25em;color: #696969;}#sk-container-id-1 label.sk-toggleable__label-arrow:hover:before {color: black;}#sk-container-id-1 div.sk-estimator:hover label.sk-toggleable__label-arrow:before {color: black;}#sk-container-id-1 div.sk-toggleable__content {max-height: 0;max-width: 0;overflow: hidden;text-align: left;background-color: #f0f8ff;}#sk-container-id-1 div.sk-toggleable__content pre {margin: 0.2em;color: black;border-radius: 0.25em;background-color: #f0f8ff;}#sk-container-id-1 input.sk-toggleable__control:checked~div.sk-toggleable__content {max-height: 200px;max-width: 100%;overflow: auto;}#sk-container-id-1 input.sk-toggleable__control:checked~label.sk-toggleable__label-arrow:before {content: \"▾\";}#sk-container-id-1 div.sk-estimator input.sk-toggleable__control:checked~label.sk-toggleable__label {background-color: #d4ebff;}#sk-container-id-1 div.sk-label input.sk-toggleable__control:checked~label.sk-toggleable__label {background-color: #d4ebff;}#sk-container-id-1 input.sk-hidden--visually {border: 0;clip: rect(1px 1px 1px 1px);clip: rect(1px, 1px, 1px, 1px);height: 1px;margin: -1px;overflow: hidden;padding: 0;position: absolute;width: 1px;}#sk-container-id-1 div.sk-estimator {font-family: monospace;background-color: #f0f8ff;border: 1px dotted black;border-radius: 0.25em;box-sizing: border-box;margin-bottom: 0.5em;}#sk-container-id-1 div.sk-estimator:hover {background-color: #d4ebff;}#sk-container-id-1 div.sk-parallel-item::after {content: \"\";width: 100%;border-bottom: 1px solid gray;flex-grow: 1;}#sk-container-id-1 div.sk-label:hover label.sk-toggleable__label {background-color: #d4ebff;}#sk-container-id-1 div.sk-serial::before {content: \"\";position: absolute;border-left: 1px solid gray;box-sizing: border-box;top: 0;bottom: 0;left: 50%;z-index: 0;}#sk-container-id-1 div.sk-serial {display: flex;flex-direction: column;align-items: center;background-color: white;padding-right: 0.2em;padding-left: 0.2em;position: relative;}#sk-container-id-1 div.sk-item {position: relative;z-index: 1;}#sk-container-id-1 div.sk-parallel {display: flex;align-items: stretch;justify-content: center;background-color: white;position: relative;}#sk-container-id-1 div.sk-item::before, #sk-container-id-1 div.sk-parallel-item::before {content: \"\";position: absolute;border-left: 1px solid gray;box-sizing: border-box;top: 0;bottom: 0;left: 50%;z-index: -1;}#sk-container-id-1 div.sk-parallel-item {display: flex;flex-direction: column;z-index: 1;position: relative;background-color: white;}#sk-container-id-1 div.sk-parallel-item:first-child::after {align-self: flex-end;width: 50%;}#sk-container-id-1 div.sk-parallel-item:last-child::after {align-self: flex-start;width: 50%;}#sk-container-id-1 div.sk-parallel-item:only-child::after {width: 0;}#sk-container-id-1 div.sk-dashed-wrapped {border: 1px dashed gray;margin: 0 0.4em 0.5em 0.4em;box-sizing: border-box;padding-bottom: 0.4em;background-color: white;}#sk-container-id-1 div.sk-label label {font-family: monospace;font-weight: bold;display: inline-block;line-height: 1.2em;}#sk-container-id-1 div.sk-label-container {text-align: center;}#sk-container-id-1 div.sk-container {/* jupyter's `normalize.less` sets `[hidden] { display: none; }` but bootstrap.min.css set `[hidden] { display: none !important; }` so we also need the `!important` here to be able to override the default hidden behavior on the sphinx rendered scikit-learn.org. See: https://github.com/scikit-learn/scikit-learn/issues/21755 */display: inline-block !important;position: relative;}#sk-container-id-1 div.sk-text-repr-fallback {display: none;}</style><div id=\"sk-container-id-1\" class=\"sk-top-container\"><div class=\"sk-text-repr-fallback\"><pre>RandomForestClassifier(max_depth=10, random_state=42)</pre><b>In a Jupyter environment, please rerun this cell to show the HTML representation or trust the notebook. <br />On GitHub, the HTML representation is unable to render, please try loading this page with nbviewer.org.</b></div><div class=\"sk-container\" hidden><div class=\"sk-item\"><div class=\"sk-estimator sk-toggleable\"><input class=\"sk-toggleable__control sk-hidden--visually\" id=\"sk-estimator-id-1\" type=\"checkbox\" checked><label for=\"sk-estimator-id-1\" class=\"sk-toggleable__label sk-toggleable__label-arrow\">RandomForestClassifier</label><div class=\"sk-toggleable__content\"><pre>RandomForestClassifier(max_depth=10, random_state=42)</pre></div></div></div></div></div>"
      ],
      "text/plain": [
       "RandomForestClassifier(max_depth=10, random_state=42)"
      ]
     },
     "execution_count": 76,
     "metadata": {},
     "output_type": "execute_result"
    }
   ],
   "source": [
    "# Make, Fit, Use Random Forest\n",
    "rf = RandomForestClassifier(bootstrap=True, \n",
    "                            class_weight=None, \n",
    "                            criterion='gini',\n",
    "                            min_samples_leaf=1,\n",
    "                            n_estimators=100,\n",
    "                            max_depth=10, \n",
    "                            random_state=42)\n",
    "rf.fit(telco_X_train, telco_y_train)"
   ]
  },
  {
   "cell_type": "code",
   "execution_count": 77,
   "id": "5595bb20-e3c4-4d00-9e17-6f3862444a32",
   "metadata": {},
   "outputs": [
    {
     "name": "stdout",
     "output_type": "stream",
     "text": [
      "training score: 89.82%\n",
      "validate score: 78.21%\n",
      "Both random forest scores are higher than baseline accuracy\n"
     ]
    }
   ],
   "source": [
    "print(f'training score: {rf.score(telco_X_train, telco_y_train):.2%}')\n",
    "print(f'validate score: {rf.score(telco_X_validate, telco_y_validate):.2%}')\n",
    "print('Both random forest scores are higher than baseline accuracy')\n"
   ]
  },
  {
   "cell_type": "code",
   "execution_count": 78,
   "id": "872655bc-3335-4900-b0c5-b9da4055dd9e",
   "metadata": {},
   "outputs": [
    {
     "name": "stdout",
     "output_type": "stream",
     "text": [
      "Final Selected Model: Logistic Regression\n",
      "Validation Score: 0.7999\n"
     ]
    }
   ],
   "source": [
    "# Final selection of the evaluation model based on mine evaluation results.\n",
    "baseline_accuracy = 0.74\n",
    "\n",
    "# Validation scores\n",
    "decision_tree_validate_score = 0.7764\n",
    "logistic_regression_validate_score = 0.7999\n",
    "random_forest_validate_score = 0.7821\n",
    "\n",
    "# Compare validation scores to baseline accuracy\n",
    "if decision_tree_validate_score > baseline_accuracy:\n",
    "    selected_model = \"Decision Tree\"\n",
    "    selected_score = decision_tree_validate_score\n",
    "\n",
    "if logistic_regression_validate_score > baseline_accuracy and logistic_regression_validate_score > selected_score:\n",
    "    selected_model = \"Logistic Regression\"\n",
    "    selected_score = logistic_regression_validate_score\n",
    "\n",
    "if random_forest_validate_score > baseline_accuracy and random_forest_validate_score > selected_score:\n",
    "    selected_model = \"Random Forest\"\n",
    "    selected_score = random_forest_validate_score\n",
    "\n",
    "# Print the final selected model\n",
    "print(\"Final Selected Model:\", selected_model)\n",
    "print(\"Validation Score:\", selected_score)\n"
   ]
  },
  {
   "cell_type": "markdown",
   "id": "80d6374b-4547-4d7b-8e51-3b6747aee426",
   "metadata": {},
   "source": [
    "Final Selection of Evaluation Model\n",
    "\n",
    "Since the Logistic Regression model has the highest validation score of all the models and it also surpasses the baseline accuracy, we've selected the Logistic Regression model as our final evaluation model. This means that, based on the data I've used, the Logistic Regression model performs the best among the three models and is likely to make the most accurate predictions on new data.\n",
    "\n",
    "Logistic Regression is a linear classification algorithm that predicts the probability of a binary outcome by modeling the relationship between input features and the log-odds using a logistic function. It is popular for its simplicity, interpretability, efficiency, and ability to handle both categorical and numerical features assuming a linear relationship.\n",
    "\n"
   ]
  },
  {
   "cell_type": "markdown",
   "id": "7af4f9dd-20af-4059-97c2-1f32b36c77f9",
   "metadata": {},
   "source": [
    "# Evaluate TOP MODEL on Test"
   ]
  },
  {
   "cell_type": "code",
   "execution_count": 79,
   "id": "d907366b-740a-4dbe-a681-8625c40e1d6a",
   "metadata": {},
   "outputs": [],
   "source": [
    "logit.fit(telco_X_train, telco_y_train)\n",
    "test_y_prediction = logit.predict(telco_X_test)\n",
    "# logit.classes_\n",
    "#  logit.predict_proba(telco_X_test) [:,1]"
   ]
  },
  {
   "cell_type": "code",
   "execution_count": 83,
   "id": "bc52fec8-d234-44f4-9ee3-5d8c09971e1f",
   "metadata": {},
   "outputs": [
    {
     "name": "stdout",
     "output_type": "stream",
     "text": [
      "logistic regression training score: 80.85%\n",
      "logistic regression validate score: 79.99%\n",
      "logistic regression test score: 80.55%\n",
      "All three logistic regression scores are higher than baseline accuracy with a consistant accuracy of almost 80%\n"
     ]
    }
   ],
   "source": [
    "print(f'logistic regression training score: {logit.score(telco_X_train, telco_y_train):.2%}')\n",
    "print(f'logistic regression validate score: {logit.score(telco_X_validate, telco_y_validate):.2%}')\n",
    "print(f'logistic regression test score: {logit.score(telco_X_test, telco_y_test):.2%}')\n",
    "print('All three logistic regression scores are higher than baseline accuracy with a consistant accuracy of almost 80%')"
   ]
  },
  {
   "cell_type": "code",
   "execution_count": 81,
   "id": "eb025439-38f5-4a39-bddf-fdf218352aea",
   "metadata": {},
   "outputs": [
    {
     "data": {
      "text/html": [
       "<div>\n",
       "<style scoped>\n",
       "    .dataframe tbody tr th:only-of-type {\n",
       "        vertical-align: middle;\n",
       "    }\n",
       "\n",
       "    .dataframe tbody tr th {\n",
       "        vertical-align: top;\n",
       "    }\n",
       "\n",
       "    .dataframe thead th {\n",
       "        text-align: right;\n",
       "    }\n",
       "</style>\n",
       "<table border=\"1\" class=\"dataframe\">\n",
       "  <thead>\n",
       "    <tr style=\"text-align: right;\">\n",
       "      <th></th>\n",
       "      <th>customer_id</th>\n",
       "      <th>Probability of churn</th>\n",
       "      <th>Test Prediction</th>\n",
       "    </tr>\n",
       "  </thead>\n",
       "  <tbody>\n",
       "    <tr>\n",
       "      <th>941</th>\n",
       "      <td>4536-PLEQY</td>\n",
       "      <td>0.544241</td>\n",
       "      <td>1</td>\n",
       "    </tr>\n",
       "    <tr>\n",
       "      <th>1404</th>\n",
       "      <td>9921-QFQUL</td>\n",
       "      <td>0.486647</td>\n",
       "      <td>0</td>\n",
       "    </tr>\n",
       "    <tr>\n",
       "      <th>5515</th>\n",
       "      <td>6485-QXWWE</td>\n",
       "      <td>0.001860</td>\n",
       "      <td>0</td>\n",
       "    </tr>\n",
       "    <tr>\n",
       "      <th>3684</th>\n",
       "      <td>6461-PPAXN</td>\n",
       "      <td>0.029073</td>\n",
       "      <td>0</td>\n",
       "    </tr>\n",
       "    <tr>\n",
       "      <th>7017</th>\n",
       "      <td>5993-JSUWV</td>\n",
       "      <td>0.006990</td>\n",
       "      <td>0</td>\n",
       "    </tr>\n",
       "  </tbody>\n",
       "</table>\n",
       "</div>"
      ],
      "text/plain": [
       "     customer_id  Probability of churn  Test Prediction\n",
       "941   4536-PLEQY              0.544241                1\n",
       "1404  9921-QFQUL              0.486647                0\n",
       "5515  6485-QXWWE              0.001860                0\n",
       "3684  6461-PPAXN              0.029073                0\n",
       "7017  5993-JSUWV              0.006990                0"
      ]
     },
     "execution_count": 81,
     "metadata": {},
     "output_type": "execute_result"
    }
   ],
   "source": [
    "telco_y_test_prediction = pd.DataFrame({\n",
    "    'customer_id': telco_test['customer_id'],\n",
    "    'Probability of churn': logit.predict_proba(telco_X_test) [:,1],\n",
    "    'Test Prediction': logit.predict(telco_X_test)\n",
    "})\n",
    "telco_y_test_prediction.head()"
   ]
  },
  {
   "cell_type": "code",
   "execution_count": 82,
   "id": "68d3c8b6-f7ec-46d0-8620-cbe8504011a5",
   "metadata": {},
   "outputs": [
    {
     "name": "stdout",
     "output_type": "stream",
     "text": [
      "              precision    recall  f1-score   support\n",
      "\n",
      "           0       0.84      0.90      0.87      1025\n",
      "           1       0.68      0.54      0.60       384\n",
      "\n",
      "    accuracy                           0.81      1409\n",
      "   macro avg       0.76      0.72      0.74      1409\n",
      "weighted avg       0.80      0.81      0.80      1409\n",
      "\n"
     ]
    }
   ],
   "source": [
    "print(classification_report(telco_y_test,test_y_prediction))\n"
   ]
  },
  {
   "cell_type": "markdown",
   "id": "80ff4049-5eea-48cc-aaf9-a6e2f5567dc9",
   "metadata": {},
   "source": [
    "# Conclusion Summary\n"
   ]
  },
  {
   "cell_type": "markdown",
   "id": "6c11be0f-73a2-4f25-b497-a8952196131d",
   "metadata": {},
   "source": [
    "Based on the classification data analysis conducted, the following key findings were made:\n",
    "\n",
    "- Four features were selected based on their visual significance and their significant relationship in chi-square statistical testing for training the Classification Model.\n",
    "  \n",
    "- The Logistic Regression model outperformed the baseline accuracy of 74% and consistently achieved an accuracy of 80% on the train, validate, and test sets, making it the best model for predicting churn.\n",
    "  \n",
    "- Hypothesis 1, regarding the dependence of contract type on customer churn, was supported by the data and can be used in modeling with a fair relationship observed.\n",
    "  \n",
    "- Hypothesis 2 and Hypothesis 3, regarding the dependence of data protection and streaming_movies on customer churn, were rejected as the relationships were extremely low, and these features were not be used in modeling.\n",
    "  \n",
    "- Hypothesis 4, regarding the dependence of tech support on customer churn, was supported by the data with a weak relationship, and it was included in the modeling process to meet the project requirements.\n",
    "  \n",
    "- Tech support and contract type were selected as features for modeling, aiming to exceed the baseline accuracy of 74%. Decision Tree, Logistic Regression, and Random Forest models were implemented with a Random Seed of 42 to avoid overfitting.\n",
    "  \n",
    "- Logistic Regression outperformed the other models, achieving an overall accuracy of 80% consistently across training, validation, and testing.\n"
   ]
  },
  {
   "cell_type": "markdown",
   "id": "99889334-02f3-4ae6-b79c-31dd0a6d3205",
   "metadata": {},
   "source": [
    "# FINDINGS\n",
    "\n",
    "Predictive power analysis\n",
    "\n",
    "- Streaming TV and Data protection shows weak predictive capabilities in churn analysis, while longer contract durations minimized churn.\n",
    "\n",
    "statsitical testing for data refinement\n",
    "\n",
    "- utilizing statistical testing excluded data set with weak relationships, improving analysis accuracy and reliablity."
   ]
  },
  {
   "cell_type": "code",
   "execution_count": 86,
   "id": "b9b416fa-c463-4600-9157-96bc9f7fed9f",
   "metadata": {},
   "outputs": [
    {
     "data": {
      "image/png": "[encoded data removed]",
      "text/plain": [
       "<Figure size 640x480 with 1 Axes>"
      ]
     },
     "metadata": {},
     "output_type": "display_data"
    },
    {
     "data": {
      "image/png": "[encoded data removed]",
      "text/plain": [
       "<Figure size 640x480 with 1 Axes>"
      ]
     },
     "metadata": {},
     "output_type": "display_data"
    }
   ],
   "source": []
  },
  {
   "cell_type": "markdown",
   "id": "872473a6-f4fb-4765-8413-5fc9086c3173",
   "metadata": {},
   "source": [
    "# Recommendations\n",
    "\n",
    "Next, we can remove the \"data protection\" and \"streaming movies\" information from the data because they don't seem to strongly affect whether customers leave or stay. After that, we'll use a special test to see if the rest of the information in the data has a strong connection with customer leaving or staying. If it does, and the connection is stronger than a certain level (like 100), then we'll keep that information for building our model. Also, we might try different versions of the model with different settings to see which one works best.\n",
    "\n",
    "- To learn more, it's a good idea to make a survey for customers who left TELCO and another one for new customers. This will help us find out why they left their old company and joined TELCO."
   ]
  },
  {
   "cell_type": "markdown",
   "id": "7e0a1796-e21c-48b5-ac68-ecb97e2048a4",
   "metadata": {},
   "source": [
    "# Takeaways\n",
    "\n",
    "The models we used to predict customer behavior worked pretty well and were accurate. But we could have learned more if we had better information from certain features. We did find out that some features like data protection, streaming movies, and tech support aren't strongly related to predicting if customers will leave. So, in the future, we can leave out these features when making new models and focus on the ones that matter more."
   ]
  },
  {
   "cell_type": "code",
   "execution_count": null,
   "id": "7b8d1c9c-0014-4820-aeb3-77f08f7f75c3",
   "metadata": {},
   "outputs": [],
   "source": []
  },
  {
   "cell_type": "code",
   "execution_count": null,
   "id": "e86f5749-0adf-4bde-b378-20e12ae9c3d0",
   "metadata": {},
   "outputs": [],
   "source": []
  },
  {
   "cell_type": "code",
   "execution_count": null,
   "id": "1ff54118-2243-40fb-b2a9-7ddc01c7cc18",
   "metadata": {},
   "outputs": [],
   "source": []
  },
  {
   "cell_type": "code",
   "execution_count": null,
   "id": "9a7ea352-65a9-415c-85e1-7e8320f6f4aa",
   "metadata": {},
   "outputs": [],
   "source": []
  },
  {
   "cell_type": "code",
   "execution_count": null,
   "id": "ae541de9-0d85-410d-bd2d-216a66ecabbc",
   "metadata": {},
   "outputs": [],
   "source": []
  },
  {
   "cell_type": "code",
   "execution_count": null,
   "id": "4654677b-eebb-430e-b878-246e34f4c9ba",
   "metadata": {},
   "outputs": [],
   "source": []
  }
 ],
 "metadata": {
  "kernelspec": {
   "display_name": "Python 3 (ipykernel)",
   "language": "python",
   "name": "python3"
  },
  "language_info": {
   "codemirror_mode": {
    "name": "ipython",
    "version": 3
   },
   "file_extension": ".py",
   "mimetype": "text/x-python",
   "name": "python",
   "nbconvert_exporter": "python",
   "pygments_lexer": "ipython3",
   "version": "3.10.12"
  }
 },
 "nbformat": 4,
 "nbformat_minor": 5
}
